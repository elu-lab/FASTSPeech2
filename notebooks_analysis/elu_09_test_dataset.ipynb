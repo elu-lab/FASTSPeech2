{
 "cells": [
  {
   "cell_type": "markdown",
   "metadata": {},
   "source": [
    "## import "
   ]
  },
  {
   "cell_type": "code",
   "execution_count": 1,
   "metadata": {},
   "outputs": [],
   "source": [
    "## Github[dataset.py]: https://github.com/ming024/FastSpeech2/blob/master/dataset.py\n",
    "## Github[config.LibriTTS.preprocess.yaml]: https://github.com/ming024/FastSpeech2/blob/master/config/LibriTTS/preprocess.yaml\n",
    "## Github[config.LibriTTS.train.yaml] : https://github.com/ming024/FastSpeech2/blob/master/config/LibriTTS/train.yaml\n",
    "## Github[utils.tools]: https://github.com/ming024/FastSpeech2/blob/master/utils/tools.py#L265\n",
    "\n",
    "import torch\n",
    "import yaml\n",
    "from torch.utils.data import DataLoader\n",
    "# from utils.utils import to_device\n",
    "from tqdm import tqdm\n",
    "\n",
    "from dataset import *"
   ]
  },
  {
   "cell_type": "code",
   "execution_count": 2,
   "metadata": {},
   "outputs": [
    {
     "name": "stdout",
     "output_type": "stream",
     "text": [
      "/home/heiscold/fs2\n"
     ]
    }
   ],
   "source": [
    "!pwd"
   ]
  },
  {
   "cell_type": "code",
   "execution_count": 3,
   "metadata": {},
   "outputs": [
    {
     "data": {
      "text/plain": [
       "True"
      ]
     },
     "execution_count": 3,
     "metadata": {},
     "output_type": "execute_result"
    }
   ],
   "source": [
    "os.path.exists(\"./config/LibriTTS/preprocess.yaml\")"
   ]
  },
  {
   "cell_type": "markdown",
   "metadata": {},
   "source": [
    "## config (from `yaml`); train_config, preprocess_config"
   ]
  },
  {
   "cell_type": "code",
   "execution_count": 4,
   "metadata": {},
   "outputs": [
    {
     "name": "stdout",
     "output_type": "stream",
     "text": [
      "cuda:0\n",
      "Done\n"
     ]
    }
   ],
   "source": [
    "device = torch.device(\"cuda:0\" if torch.cuda.is_available() else \"cpu\")\n",
    "print(device)\n",
    "\n",
    "preprocess_config = yaml.load(open(\"./config/LibriTTS/preprocess.yaml\", \"r\"), Loader=yaml.FullLoader)\n",
    "train_config = yaml.load(open(\"./config/LibriTTS/train.yaml\", \"r\"), Loader=yaml.FullLoader)\n",
    "print(\"Done\")"
   ]
  },
  {
   "cell_type": "markdown",
   "metadata": {},
   "source": [
    "## Dataset"
   ]
  },
  {
   "cell_type": "code",
   "execution_count": 5,
   "metadata": {},
   "outputs": [
    {
     "name": "stdout",
     "output_type": "stream",
     "text": [
      "Done\n"
     ]
    }
   ],
   "source": [
    "## Dataset\n",
    "train_dataset = Dataset(\"train.txt\", preprocess_config, train_config, sort=True, drop_last=True)\n",
    "val_dataset = Dataset(\"val.txt\", preprocess_config, train_config, sort=False, drop_last=False)\n",
    "print(\"Done\")"
   ]
  },
  {
   "cell_type": "code",
   "execution_count": 20,
   "metadata": {},
   "outputs": [
    {
     "data": {
      "text/plain": [
       "dict_keys(['id', 'speaker', 'text', 'raw_text', 'mel', 'pitch', 'energy', 'duration'])"
      ]
     },
     "execution_count": 20,
     "metadata": {},
     "output_type": "execute_result"
    }
   ],
   "source": [
    "sample = next(iter(train_dataset))\n",
    "sample.keys()"
   ]
  },
  {
   "cell_type": "code",
   "execution_count": 29,
   "metadata": {},
   "outputs": [
    {
     "data": {
      "text/plain": [
       "('10148_10349_000237',\n",
       " 13099,\n",
       " array([151, 160, 158, 165, 151, 159, 148, 159, 152, 151, 158, 165, 159,\n",
       "        165, 157, 159, 152, 157, 151, 154, 158, 156, 165, 358, 169, 159,\n",
       "        152, 169, 159, 159, 152, 154, 157, 165, 159, 163, 159, 151, 157,\n",
       "        154, 148, 156, 163, 165, 148, 151, 158, 152, 159, 157, 159, 165,\n",
       "        158, 169, 165, 156, 159]),\n",
       " 'die gespräche mit den bauern auf dem weit entlegenen felde hatten ihm gezeigt daß sie anfingen sich an ihre neuen verhältnisse zu gewöhnen der alte herbergswirt bei dem er für ein weilchen eingekehrt war um sich zu trocknen')"
      ]
     },
     "execution_count": 29,
     "metadata": {},
     "output_type": "execute_result"
    }
   ],
   "source": [
    "sample['id'], sample['speaker'], sample['text'], sample['raw_text']"
   ]
  },
  {
   "cell_type": "code",
   "execution_count": 30,
   "metadata": {},
   "outputs": [
    {
     "data": {
      "text/plain": [
       "((152,), (152,), (152,))"
      ]
     },
     "execution_count": 30,
     "metadata": {},
     "output_type": "execute_result"
    }
   ],
   "source": [
    "sample['pitch'].shape, sample['energy'].shape, sample['duration'].shape"
   ]
  },
  {
   "cell_type": "markdown",
   "metadata": {},
   "source": [
    "## DataLoader; train_loader, val_loader"
   ]
  },
  {
   "cell_type": "code",
   "execution_count": 31,
   "metadata": {},
   "outputs": [
    {
     "name": "stdout",
     "output_type": "stream",
     "text": [
      "Train Loader Done\n",
      "Valid Loader Done\n"
     ]
    }
   ],
   "source": [
    "train_loader = DataLoader(\n",
    "                    train_dataset,\n",
    "                    batch_size=train_config[\"optimizer\"][\"batch_size\"], ## 16 * 4...?\n",
    "                    shuffle=True,\n",
    "                    collate_fn=train_dataset.collate_fn,)\n",
    "print(\"Train Loader Done\")\n",
    "\n",
    "val_loader = DataLoader(\n",
    "                        val_dataset,\n",
    "                        batch_size=train_config[\"optimizer\"][\"batch_size\"],\n",
    "                        shuffle=False,\n",
    "                        collate_fn=val_dataset.collate_fn,\n",
    ")\n",
    "print(\"Valid Loader Done\")"
   ]
  },
  {
   "cell_type": "code",
   "execution_count": 32,
   "metadata": {},
   "outputs": [
    {
     "data": {
      "text/plain": [
       "16"
      ]
     },
     "execution_count": 32,
     "metadata": {},
     "output_type": "execute_result"
    }
   ],
   "source": [
    "train_config[\"optimizer\"][\"batch_size\"]"
   ]
  },
  {
   "cell_type": "markdown",
   "metadata": {},
   "source": [
    "## Check Sample Batch Shape from train_loader"
   ]
  },
  {
   "cell_type": "code",
   "execution_count": 45,
   "metadata": {},
   "outputs": [
    {
     "data": {
      "text/plain": [
       "4"
      ]
     },
     "execution_count": 45,
     "metadata": {},
     "output_type": "execute_result"
    }
   ],
   "source": [
    "4%16"
   ]
  },
  {
   "cell_type": "code",
   "execution_count": 66,
   "metadata": {},
   "outputs": [],
   "source": [
    "batch = next(iter(train_loader))"
   ]
  },
  {
   "cell_type": "code",
   "execution_count": 67,
   "metadata": {},
   "outputs": [
    {
     "data": {
      "text/plain": [
       "1"
      ]
     },
     "execution_count": 67,
     "metadata": {},
     "output_type": "execute_result"
    }
   ],
   "source": [
    "len(batch)"
   ]
  },
  {
   "cell_type": "code",
   "execution_count": 68,
   "metadata": {},
   "outputs": [
    {
     "data": {
      "text/plain": [
       "12"
      ]
     },
     "execution_count": 68,
     "metadata": {},
     "output_type": "execute_result"
    }
   ],
   "source": [
    "len(batch[0])"
   ]
  },
  {
   "cell_type": "code",
   "execution_count": 69,
   "metadata": {},
   "outputs": [
    {
     "data": {
      "text/plain": [
       "['10148_10349_002768',\n",
       " '10148_10349_004866',\n",
       " '10148_10349_004202',\n",
       " '10148_10349_001164',\n",
       " '10148_10349_002564',\n",
       " '10148_10349_002712',\n",
       " '10148_10119_001276',\n",
       " '10148_10349_002174',\n",
       " '10148_10349_009185',\n",
       " '10148_10349_005704',\n",
       " '10148_10349_002323',\n",
       " '10148_10349_003060',\n",
       " '10148_10349_003243',\n",
       " '10148_10349_008143',\n",
       " '10148_10119_000333',\n",
       " '10148_10349_000179']"
      ]
     },
     "execution_count": 69,
     "metadata": {},
     "output_type": "execute_result"
    }
   ],
   "source": [
    "batch[0][0] ## basenames"
   ]
  },
  {
   "cell_type": "code",
   "execution_count": 70,
   "metadata": {},
   "outputs": [
    {
     "data": {
      "text/plain": [
       "['du hattest mir doch gar nicht bestimmt gesagt daß du hinfahren wolltest mietest du dir im dorfe pferde so ist das erstens für mich peinlich und zweitens was die hauptsache ist die leute übernehmen das bringen dich aber nicht bis an dein ziel ich habe pferde und wenn du mich nicht kränken willst so benutze sie',\n",
       " 'bei diesen worten begegneten sich die blicke der beiden brüder und trotz seines steten und gerade jetzt besonders lebhaften wunsches nach einem freundschaftlichen und namentlich ungezwungenen verhältnis zu seinem bruder fühlte ljewin daß es ihm unbehaglich war ihn anzusehen',\n",
       " 'aber in ihrer eigenen familie erfüllte sie und zwar nicht etwa nur um damit ein beispiel zu geben sondern von ganzem herzen streng alle forderungen der kirche und der umstand daß ihre kinder ungefähr seit einem jahr nicht zum abendmahl gegangen waren beunruhigte sie sehr',\n",
       " 'sie fuhr mit dem papiermesser über die fensterscheibe und hielt dann seine glatte kalte fläche an ihre wange und lachte beinahe laut auf vor freude obwohl zu diesem gefühl das sie plötzlich überkam gar kein anlaß vorlag',\n",
       " 'aber sie fand dann immer beim nachschlagen in den büchern dasselbe was sie ihm auf seine fragen als auskunft gegeben hatte und konnte es ihm nachweisen auch für die einrichtung des krankenhauses erwärmte sie sich',\n",
       " 'als er kitty von stepan arkadjewitschs rat ins ausland zu reisen mitteilung machte war er sehr verwundert daß sie damit nicht einverstanden war sondern über ihr beiderseitiges künftiges leben ihre eigenen ganz bestimmten gedanken hegte',\n",
       " 'wurde zu boden geworfen stand mit zerrissenen kleidern wieder auf doch ohne bedeutende quetschung sein reisepaletot und seine hosen waren arg zerissen doch war mrs aouda verschont geblieben und nur fix hatte seinen schlag bekommen',\n",
       " 'während sie durch das besuchszimmer ging hörte sie daß vor der haustür ein wagen anhielt sie sah durch das fenster und erblickte eine kutsche aus der sich ein junges mädchen mit einem lila hut',\n",
       " 'dich hält doch wohl hier nichts zurück es ist mein sehnlichster wunsch ich komme gleich dann wollen wir näher darüber sprechen ich will mich nur erst umkleiden laß nur immer den tee bringen',\n",
       " 'nun und was wäre dabei ich bin nicht schuld und nun dachte er nur noch an den morgigen tag morgen breche ich recht früh auf und nehme mir fest vor nicht hitzig zu werden',\n",
       " 'ich wundere mich nur graf sagte er daß sie während sie in gesundheitlicher hinsicht so viel für das volk tun für die schulen so wenig übrig haben',\n",
       " 'eifrig mit den bloßen von der sonne schwarzgebrannten füßen auf dem unebenen harten dreschboden hin und her ging damals ist sie noch wieder gesund geworden',\n",
       " 'ihr könnt meine art zu leben billigen oder mißbilligen haltet das wie ihr wollt mir ist es völlig gleichgültig wollt ihr aber mit mir verkehren so müßt ihr mich achten',\n",
       " 'da möchte ich ihnen noch etwas erzählen fuhr der gutsbesitzer fort mein nachbar ein händler war bei mir zu besuch wir gingen durch die wirtschaft durch den garten',\n",
       " 'während der wenigen augenblicke wo er mit phileas fogg zusammen gewesen hatte passepartout seinen künftigen herrn rasch aber doch genau gemustert',\n",
       " 'als ob eine innere stimme gerade dann wenn sie an wronski dachte ihr wie bei einem gewissen gesellschaftsspiele zuriefe warm sehr warm heiß']"
      ]
     },
     "execution_count": 70,
     "metadata": {},
     "output_type": "execute_result"
    }
   ],
   "source": [
    "batch[0][1] ## sentences"
   ]
  },
  {
   "cell_type": "code",
   "execution_count": 71,
   "metadata": {},
   "outputs": [
    {
     "data": {
      "text/plain": [
       "array([13099, 13099, 13099, 13099, 13099, 13099, 13099, 13099, 13099,\n",
       "       13099, 13099, 13099, 13099, 13099, 13099, 13099])"
      ]
     },
     "execution_count": 71,
     "metadata": {},
     "output_type": "execute_result"
    }
   ],
   "source": [
    "batch[0][2] "
   ]
  },
  {
   "cell_type": "code",
   "execution_count": null,
   "metadata": {},
   "outputs": [],
   "source": [
    "# Each batch\n",
    "#### --> basename: [... 16개 ...]\n",
    "#### --> sentences:  [... 16개 ...]"
   ]
  },
  {
   "cell_type": "markdown",
   "metadata": {},
   "source": [
    "## from github"
   ]
  },
  {
   "cell_type": "code",
   "execution_count": 72,
   "metadata": {},
   "outputs": [],
   "source": [
    "ids, raw_texts, speakers, texts, src_lens, max_src_len, mels, mel_lens, max_mel_len, pitches, energies, durations = batch[0]"
   ]
  },
  {
   "cell_type": "code",
   "execution_count": 73,
   "metadata": {},
   "outputs": [
    {
     "data": {
      "text/plain": [
       "['10148_10349_002768',\n",
       " '10148_10349_004866',\n",
       " '10148_10349_004202',\n",
       " '10148_10349_001164',\n",
       " '10148_10349_002564',\n",
       " '10148_10349_002712',\n",
       " '10148_10119_001276',\n",
       " '10148_10349_002174',\n",
       " '10148_10349_009185',\n",
       " '10148_10349_005704',\n",
       " '10148_10349_002323',\n",
       " '10148_10349_003060',\n",
       " '10148_10349_003243',\n",
       " '10148_10349_008143',\n",
       " '10148_10119_000333',\n",
       " '10148_10349_000179']"
      ]
     },
     "execution_count": 73,
     "metadata": {},
     "output_type": "execute_result"
    }
   ],
   "source": [
    "ids  ### 16"
   ]
  },
  {
   "cell_type": "code",
   "execution_count": 74,
   "metadata": {},
   "outputs": [
    {
     "data": {
      "text/plain": [
       "['du hattest mir doch gar nicht bestimmt gesagt daß du hinfahren wolltest mietest du dir im dorfe pferde so ist das erstens für mich peinlich und zweitens was die hauptsache ist die leute übernehmen das bringen dich aber nicht bis an dein ziel ich habe pferde und wenn du mich nicht kränken willst so benutze sie',\n",
       " 'bei diesen worten begegneten sich die blicke der beiden brüder und trotz seines steten und gerade jetzt besonders lebhaften wunsches nach einem freundschaftlichen und namentlich ungezwungenen verhältnis zu seinem bruder fühlte ljewin daß es ihm unbehaglich war ihn anzusehen',\n",
       " 'aber in ihrer eigenen familie erfüllte sie und zwar nicht etwa nur um damit ein beispiel zu geben sondern von ganzem herzen streng alle forderungen der kirche und der umstand daß ihre kinder ungefähr seit einem jahr nicht zum abendmahl gegangen waren beunruhigte sie sehr',\n",
       " 'sie fuhr mit dem papiermesser über die fensterscheibe und hielt dann seine glatte kalte fläche an ihre wange und lachte beinahe laut auf vor freude obwohl zu diesem gefühl das sie plötzlich überkam gar kein anlaß vorlag',\n",
       " 'aber sie fand dann immer beim nachschlagen in den büchern dasselbe was sie ihm auf seine fragen als auskunft gegeben hatte und konnte es ihm nachweisen auch für die einrichtung des krankenhauses erwärmte sie sich',\n",
       " 'als er kitty von stepan arkadjewitschs rat ins ausland zu reisen mitteilung machte war er sehr verwundert daß sie damit nicht einverstanden war sondern über ihr beiderseitiges künftiges leben ihre eigenen ganz bestimmten gedanken hegte',\n",
       " 'wurde zu boden geworfen stand mit zerrissenen kleidern wieder auf doch ohne bedeutende quetschung sein reisepaletot und seine hosen waren arg zerissen doch war mrs aouda verschont geblieben und nur fix hatte seinen schlag bekommen',\n",
       " 'während sie durch das besuchszimmer ging hörte sie daß vor der haustür ein wagen anhielt sie sah durch das fenster und erblickte eine kutsche aus der sich ein junges mädchen mit einem lila hut',\n",
       " 'dich hält doch wohl hier nichts zurück es ist mein sehnlichster wunsch ich komme gleich dann wollen wir näher darüber sprechen ich will mich nur erst umkleiden laß nur immer den tee bringen',\n",
       " 'nun und was wäre dabei ich bin nicht schuld und nun dachte er nur noch an den morgigen tag morgen breche ich recht früh auf und nehme mir fest vor nicht hitzig zu werden',\n",
       " 'ich wundere mich nur graf sagte er daß sie während sie in gesundheitlicher hinsicht so viel für das volk tun für die schulen so wenig übrig haben',\n",
       " 'eifrig mit den bloßen von der sonne schwarzgebrannten füßen auf dem unebenen harten dreschboden hin und her ging damals ist sie noch wieder gesund geworden',\n",
       " 'ihr könnt meine art zu leben billigen oder mißbilligen haltet das wie ihr wollt mir ist es völlig gleichgültig wollt ihr aber mit mir verkehren so müßt ihr mich achten',\n",
       " 'da möchte ich ihnen noch etwas erzählen fuhr der gutsbesitzer fort mein nachbar ein händler war bei mir zu besuch wir gingen durch die wirtschaft durch den garten',\n",
       " 'während der wenigen augenblicke wo er mit phileas fogg zusammen gewesen hatte passepartout seinen künftigen herrn rasch aber doch genau gemustert',\n",
       " 'als ob eine innere stimme gerade dann wenn sie an wronski dachte ihr wie bei einem gewissen gesellschaftsspiele zuriefe warm sehr warm heiß']"
      ]
     },
     "execution_count": 74,
     "metadata": {},
     "output_type": "execute_result"
    }
   ],
   "source": [
    "raw_texts ### 16"
   ]
  },
  {
   "cell_type": "code",
   "execution_count": 75,
   "metadata": {},
   "outputs": [
    {
     "data": {
      "text/plain": [
       "array([13099, 13099, 13099, 13099, 13099, 13099, 13099, 13099, 13099,\n",
       "       13099, 13099, 13099, 13099, 13099, 13099, 13099])"
      ]
     },
     "execution_count": 75,
     "metadata": {},
     "output_type": "execute_result"
    }
   ],
   "source": [
    "speakers  ### 16"
   ]
  },
  {
   "cell_type": "code",
   "execution_count": 77,
   "metadata": {},
   "outputs": [
    {
     "data": {
      "text/plain": [
       "(array([[151, 154, 163, ..., 148, 159, 169],\n",
       "        [148, 151, 169, ...,   0,   0,   0],\n",
       "        [148, 159, 159, ...,   0,   0,   0],\n",
       "        ...,\n",
       "        [151, 158, 159, ...,   0,   0,   0],\n",
       "        [159, 165, 151, ...,   0,   0,   0],\n",
       "        [157, 163, 160, ...,   0,   0,   0]]),\n",
       " (16, 91))"
      ]
     },
     "execution_count": 77,
     "metadata": {},
     "output_type": "execute_result"
    }
   ],
   "source": [
    "texts, texts.shape  ### 16"
   ]
  },
  {
   "cell_type": "code",
   "execution_count": 78,
   "metadata": {},
   "outputs": [
    {
     "data": {
      "text/plain": [
       "(array([91, 79, 65, 61, 59, 58, 57, 54, 45, 45, 41, 40, 37, 37, 33, 30]), 91)"
      ]
     },
     "execution_count": 78,
     "metadata": {},
     "output_type": "execute_result"
    }
   ],
   "source": [
    " src_lens, max_src_len,   ### 16"
   ]
  },
  {
   "cell_type": "code",
   "execution_count": 81,
   "metadata": {},
   "outputs": [
    {
     "data": {
      "text/plain": [
       "((16, 1397, 80),\n",
       " array([1359, 1345, 1397, 1039,  999, 1253, 1132,  889,  858,  853,  712,\n",
       "         823,  805,  793,  761,  733]))"
      ]
     },
     "execution_count": 81,
     "metadata": {},
     "output_type": "execute_result"
    }
   ],
   "source": [
    "mels.shape, mel_lens,   ### 16"
   ]
  },
  {
   "cell_type": "code",
   "execution_count": 80,
   "metadata": {},
   "outputs": [
    {
     "data": {
      "text/plain": [
       "(1397, (16, 208), (16, 208), (16, 208))"
      ]
     },
     "execution_count": 80,
     "metadata": {},
     "output_type": "execute_result"
    }
   ],
   "source": [
    "max_mel_len, pitches.shape, energies.shape, durations.shape  ### 16"
   ]
  },
  {
   "cell_type": "markdown",
   "metadata": {},
   "source": [
    "#### to_device function from `utils.tools.py`"
   ]
  },
  {
   "cell_type": "code",
   "execution_count": 6,
   "metadata": {},
   "outputs": [],
   "source": [
    "### utils.tools.py\n",
    "def to_device(data, device):\n",
    "    if len(data) == 12:\n",
    "        (\n",
    "            ids,\n",
    "            raw_texts,\n",
    "            speakers,\n",
    "            texts,\n",
    "            src_lens,\n",
    "            max_src_len,\n",
    "            mels,\n",
    "            mel_lens,\n",
    "            max_mel_len,\n",
    "            pitches,\n",
    "            energies,\n",
    "            durations,\n",
    "        ) = data\n",
    "\n",
    "        speakers = torch.from_numpy(speakers).long().to(device)\n",
    "        texts = torch.from_numpy(texts).long().to(device)\n",
    "        src_lens = torch.from_numpy(src_lens).to(device)\n",
    "        mels = torch.from_numpy(mels).float().to(device)\n",
    "        mel_lens = torch.from_numpy(mel_lens).to(device)\n",
    "        pitches = torch.from_numpy(pitches).float().to(device)\n",
    "        energies = torch.from_numpy(energies).to(device)\n",
    "        durations = torch.from_numpy(durations).long().to(device)\n",
    "\n",
    "        return (\n",
    "            ids,\n",
    "            raw_texts,\n",
    "            speakers,\n",
    "            texts,\n",
    "            src_lens,\n",
    "            max_src_len,\n",
    "            mels,\n",
    "            mel_lens,\n",
    "            max_mel_len,\n",
    "            pitches,\n",
    "            energies,\n",
    "            durations,\n",
    "        )\n",
    "\n",
    "    if len(data) == 6:\n",
    "        (ids, raw_texts, speakers, texts, src_lens, max_src_len) = data\n",
    "\n",
    "        speakers = torch.from_numpy(speakers).long().to(device)\n",
    "        texts = torch.from_numpy(texts).long().to(device)\n",
    "        src_lens = torch.from_numpy(src_lens).to(device)\n",
    "\n",
    "        return (ids, raw_texts, speakers, texts, src_lens, max_src_len)\n"
   ]
  },
  {
   "cell_type": "code",
   "execution_count": 54,
   "metadata": {},
   "outputs": [
    {
     "name": "stdout",
     "output_type": "stream",
     "text": [
      "Validation set  with size 512 is composed of 32 batches.\n"
     ]
    }
   ],
   "source": [
    "################### Eval ###################### \n",
    "n_batch = 0\n",
    "for batchs in val_loader:\n",
    "    for batch in batchs:\n",
    "        # to_device(batch, device)\n",
    "        n_batch += 1\n",
    "\n",
    "        \n",
    "print(\"Validation set  with size {} is composed of {} batches.\".format( len(val_dataset), n_batch ))\n",
    "## 4m 10.4s @ CPU -- valid dataset.__len__: 512"
   ]
  },
  {
   "cell_type": "code",
   "execution_count": 55,
   "metadata": {},
   "outputs": [
    {
     "data": {
      "text/plain": [
       "512"
      ]
     },
     "execution_count": 55,
     "metadata": {},
     "output_type": "execute_result"
    }
   ],
   "source": [
    "32 * 16\n",
    "# N_BATCHES * BATCH_SIZE = 512"
   ]
  },
  {
   "cell_type": "markdown",
   "metadata": {},
   "source": [
    "## Change Batch Size (as example)"
   ]
  },
  {
   "cell_type": "code",
   "execution_count": 7,
   "metadata": {},
   "outputs": [
    {
     "name": "stdout",
     "output_type": "stream",
     "text": [
      "Train Loader Done\n"
     ]
    }
   ],
   "source": [
    "trainloader = DataLoader(\n",
    "                    train_dataset,\n",
    "                    batch_size=train_config[\"optimizer\"][\"batch_size\"] * 4, ## 16 * 4...?\n",
    "                    shuffle=True,\n",
    "                    collate_fn=train_dataset.collate_fn,)\n",
    "                    \n",
    "print(\"Train Loader Done\")"
   ]
  },
  {
   "cell_type": "code",
   "execution_count": 11,
   "metadata": {},
   "outputs": [
    {
     "name": "stderr",
     "output_type": "stream",
     "text": [
      "  1%|          | 1/197 [00:05<18:28,  5.65s/it]"
     ]
    },
    {
     "name": "stdout",
     "output_type": "stream",
     "text": [
      "Training set  with size 12584 is composed of 8 batches.\n"
     ]
    },
    {
     "name": "stderr",
     "output_type": "stream",
     "text": [
      "\n"
     ]
    }
   ],
   "source": [
    "############################ Train: SAMPLE TEST ##############################\n",
    "# device = torch.device(\"cuda\" if torch.cuda.is_available() else \"cpu\")\n",
    "n_batch = 0\n",
    "\n",
    "# for batchs in trainloader:\n",
    "for i, batchs in enumerate( tqdm(trainloader, total = len(trainloader)) ):\n",
    "    for batch in batchs:\n",
    "        to_device(batch, device) ## 이래서 Device로 보냈구나...\n",
    "        n_batch += 1\n",
    "\n",
    "    if i ==1:\n",
    "        break\n",
    "        \n",
    "print(\"Training set  with size {} is composed of {} batches.\".format( len(train_dataset), n_batch ))\n",
    "###   1%|          | 1/197 [00:05<18:28,  5.65s/it]\n",
    "### Training set  with size 12584 is composed of 8 batches."
   ]
  },
  {
   "cell_type": "code",
   "execution_count": 12,
   "metadata": {},
   "outputs": [
    {
     "name": "stderr",
     "output_type": "stream",
     "text": [
      "100%|██████████| 197/197 [20:12<00:00,  6.15s/it]"
     ]
    },
    {
     "name": "stdout",
     "output_type": "stream",
     "text": [
      "Training set  with size 12584 is composed of 786 batches.\n"
     ]
    },
    {
     "name": "stderr",
     "output_type": "stream",
     "text": [
      "\n"
     ]
    }
   ],
   "source": [
    "############################ Train: Full ##############################\n",
    "# device = torch.device(\"cuda\" if torch.cuda.is_available() else \"cpu\")\n",
    "n_batch = 0\n",
    "\n",
    "# for batchs in trainloader:\n",
    "for i, batchs in enumerate( tqdm(trainloader, total = len(trainloader)) ):\n",
    "    for batch in batchs:\n",
    "        to_device(batch, device) ## 이래서 Device로 보냈구나...\n",
    "        n_batch += 1\n",
    "\n",
    "    # if i ==1:\n",
    "    #     break\n",
    "        \n",
    "print(\"Training set  with size {} is composed of {} batches.\".format( len(train_dataset), n_batch ))\n",
    "\n",
    "#### 어?? 아깐 이렇게 해도 안 끝났는데?? 뭐지??? \n",
    "####   >>>> 22m 10.4s @ GPU -- train_dataset.__len__: (13100 - 512)\n",
    "\n",
    "\n",
    "######## 뭐지...? 다시 돌리니까 단축이 왜 된 거지? ##########\n",
    "#### 100%|██████████| 197/197 [20:12<00:00,  6.15s/it]\n",
    "#### Training set  with size 12584 is composed of 786 batches."
   ]
  },
  {
   "cell_type": "code",
   "execution_count": 13,
   "metadata": {},
   "outputs": [
    {
     "name": "stdout",
     "output_type": "stream",
     "text": [
      "Check Finished\n"
     ]
    }
   ],
   "source": [
    "print(\"Check Finished\")"
   ]
  },
  {
   "cell_type": "code",
   "execution_count": null,
   "metadata": {},
   "outputs": [],
   "source": []
  }
 ],
 "metadata": {
  "kernelspec": {
   "display_name": "elu",
   "language": "python",
   "name": "python3"
  },
  "language_info": {
   "codemirror_mode": {
    "name": "ipython",
    "version": 3
   },
   "file_extension": ".py",
   "mimetype": "text/x-python",
   "name": "python",
   "nbconvert_exporter": "python",
   "pygments_lexer": "ipython3",
   "version": "3.9.17"
  },
  "orig_nbformat": 4
 },
 "nbformat": 4,
 "nbformat_minor": 2
}
